{
 "cells": [
  {
   "cell_type": "code",
   "execution_count": 6,
   "id": "eab9fb93",
   "metadata": {},
   "outputs": [
    {
     "name": "stdout",
     "output_type": "stream",
     "text": [
      "c:\\pylabs\\plvr-insight\\notebooks\n"
     ]
    }
   ],
   "source": [
    "import sys\n",
    "from pathlib import Path\n",
    "project_root = Path.cwd()  # 找出根目錄：Path.cwd()找出現在所在目錄(/run).parent(上一層是notebook).parent(再上層一層business_district_discovery)\n",
    "print(project_root)\n",
    "sys.path.append(str(project_root))"
   ]
  },
  {
   "cell_type": "code",
   "execution_count": 1,
   "id": "0de00a8b",
   "metadata": {},
   "outputs": [],
   "source": [
    "url = 'https://lvr.land.moi.gov.tw/SERVICE/QueryPrice/SaleData/84450f17aa4f2bf5c524efe816fcd47f?q=VTJGc2RHVmtYMThOdHE1UzNEQTRUMUNpT0dDZDFHdkVDQ1hVbEZRV0UzN0JaL1JpV2dIMG1UMUdxMC9GSW4wTmZPdjFSUFNYZVNwODg2UDBGS2NVTmNncDdDVkZOT05NcStKYzczL1ROOWpUd2VXWkFtQ3JyV1pwYkpQZm04ZmxYSmRqMVJPUkI1N04rQ2xBVjM4Tk5MYVFNRHREOUFpemdXditJNldDMFE1UEs2Y09PNGM0WHhmUmswRURFY1c1WjhmZUhDbWpRcFlrOWlPZlVkeUhOeDFWQ2xwQ3U5OTlKQlc0VjZaTjIzdEtDZGJuL2J1bHF4Mlc3SXlaSjJQRmhGTVVvOUVIRUVLMlpoRmpNbTRHNUFWZHZuazNid0FZWjFIcldjQkdMMUZBWUlRVEpOMlpORFlVRnhvWXd4eHY='"
   ]
  },
  {
   "cell_type": "code",
   "execution_count": 3,
   "id": "c16d19b6",
   "metadata": {},
   "outputs": [],
   "source": [
    "import requests"
   ]
  },
  {
   "cell_type": "code",
   "execution_count": null,
   "id": "2532c17a",
   "metadata": {},
   "outputs": [],
   "source": [
    "resp = requests.get(url)\n"
   ]
  },
  {
   "cell_type": "code",
   "execution_count": null,
   "id": "979c9be0",
   "metadata": {},
   "outputs": [],
   "source": [
    "data = resp.json()\n",
    "data"
   ]
  }
 ],
 "metadata": {
  "kernelspec": {
   "display_name": "plvr-insight",
   "language": "python",
   "name": "python3"
  },
  "language_info": {
   "codemirror_mode": {
    "name": "ipython",
    "version": 3
   },
   "file_extension": ".py",
   "mimetype": "text/x-python",
   "name": "python",
   "nbconvert_exporter": "python",
   "pygments_lexer": "ipython3",
   "version": "3.11.13"
  }
 },
 "nbformat": 4,
 "nbformat_minor": 5
}
